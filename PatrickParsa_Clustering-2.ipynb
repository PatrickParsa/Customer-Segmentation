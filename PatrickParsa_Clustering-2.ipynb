{
  "nbformat": 4,
  "nbformat_minor": 0,
  "metadata": {
    "colab": {
      "name": "PatrickParsa_Clustering.ipynb",
      "provenance": [],
      "collapsed_sections": []
    },
    "kernelspec": {
      "display_name": "Python 3",
      "language": "python",
      "name": "python3"
    },
    "language_info": {
      "codemirror_mode": {
        "name": "ipython",
        "version": 3
      },
      "file_extension": ".py",
      "mimetype": "text/x-python",
      "name": "python",
      "nbconvert_exporter": "python",
      "pygments_lexer": "ipython3",
      "version": "3.8.5"
    }
  },
  "cells": [
    {
      "cell_type": "markdown",
      "metadata": {
        "id": "tIOusyeT4_RJ"
      },
      "source": [
        "## Unsupervised Learning: Customer Segmentation\n",
        "----------------------------------------\n",
        "**Marks: 30**\n",
        "-----------------------------------------\n",
        "\n",
        "Welcome to the project on Unsupervised Learning. We will be using the Credit Card Customer Data for this project.\n",
        "\n",
        "\n",
        "----------------------------\n",
        "## Objective: \n",
        "-----------------------------\n",
        "\n",
        "To identify different segments in the existing customer based on their spending patterns as well as past interaction with the bank. This will help run personalized campaigns to target new customers as well as upsell to existing customers. \n",
        "\n",
        "--------------------------\n",
        "## About the data:\n",
        "--------------------------\n",
        "Data is of various customers of a bank with their credit limit, the total number of credit cards the customer has, and different channels through which customer has contacted the bank for any queries, different channels include visiting the bank, online and through a call centre.\n",
        "\n",
        "- Sl_no - Customer Serial Number\n",
        "- Customer Key - Customer identification\n",
        "- Avg_Credit_Limit\t- Average credit limit (currency is not specified, you can make an assumption around this)\n",
        "- Total_Credit_Cards\t- Total number of credit cards \n",
        "- Total_visits_bank\t- Total bank visits\n",
        "- Total_visits_online -\t Total online visits\n",
        "- Total_calls_made - Total calls made"
      ]
    },
    {
      "cell_type": "markdown",
      "metadata": {
        "id": "0ReVFSgtvvO6"
      },
      "source": [
        "## Importing libraries and overview of the dataset"
      ]
    },
    {
      "cell_type": "code",
      "metadata": {
        "id": "KJKn2dkPKnkU",
        "colab": {
          "base_uri": "https://localhost:8080/"
        },
        "outputId": "70f29bb2-e549-4d0c-a0e6-c0b42196c899"
      },
      "source": [
        "#Importing all the necessary packages\n",
        "\n",
        "import pandas as pd\n",
        "import numpy as np\n",
        "\n",
        "import matplotlib.pylab as plt\n",
        "import seaborn as sns\n",
        "\n",
        "#to scale the data using z-score \n",
        "from sklearn.preprocessing import StandardScaler\n",
        "\n",
        "#importing clustering algorithms\n",
        "from sklearn.cluster import KMeans\n",
        "from sklearn.mixture import GaussianMixture\n",
        "\n",
        "\n",
        "\n",
        "!pip install scikit-learn-extra\n",
        "#pip install https://github.com/scikit-learn-contrib/scikit-learn-extra/archive/master.zip\n",
        "#conda install -c conda-forge scikit-learn-extra --y\n",
        "from sklearn_extra.cluster import KMedoids\n",
        "\n",
        "import warnings\n",
        "warnings.filterwarnings(\"ignore\")"
      ],
      "execution_count": null,
      "outputs": [
        {
          "output_type": "stream",
          "text": [
            "Requirement already satisfied: scikit-learn-extra in /usr/local/lib/python3.7/dist-packages (0.2.0)\n",
            "Requirement already satisfied: scikit-learn>=0.23.0 in /usr/local/lib/python3.7/dist-packages (from scikit-learn-extra) (0.24.2)\n",
            "Requirement already satisfied: numpy>=1.13.3 in /usr/local/lib/python3.7/dist-packages (from scikit-learn-extra) (1.19.5)\n",
            "Requirement already satisfied: scipy>=0.19.1 in /usr/local/lib/python3.7/dist-packages (from scikit-learn-extra) (1.4.1)\n",
            "Requirement already satisfied: joblib>=0.11 in /usr/local/lib/python3.7/dist-packages (from scikit-learn>=0.23.0->scikit-learn-extra) (1.0.1)\n",
            "Requirement already satisfied: threadpoolctl>=2.0.0 in /usr/local/lib/python3.7/dist-packages (from scikit-learn>=0.23.0->scikit-learn-extra) (2.2.0)\n"
          ],
          "name": "stdout"
        }
      ]
    },
    {
      "cell_type": "markdown",
      "metadata": {
        "id": "9qEgcn2XvvO8"
      },
      "source": [
        "#### Loading data"
      ]
    },
    {
      "cell_type": "code",
      "metadata": {
        "colab": {
          "resources": {
            "http://localhost:8080/nbextensions/google.colab/files.js": {
              "data": "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",
              "ok": true,
              "headers": [
                [
                  "content-type",
                  "application/javascript"
                ]
              ],
              "status": 200,
              "status_text": "OK"
            }
          },
          "base_uri": "https://localhost:8080/",
          "height": 76
        },
        "id": "AM79YfDujenC",
        "outputId": "a52409d6-79a2-461a-b1dd-17441a78c0ab"
      },
      "source": [
        "from google.colab import files\n",
        "uploaded = files.upload()"
      ],
      "execution_count": null,
      "outputs": [
        {
          "output_type": "display_data",
          "data": {
            "text/html": [
              "\n",
              "     <input type=\"file\" id=\"files-752669f3-b906-4aa4-9483-b9c8e6ce6da1\" name=\"files[]\" multiple disabled\n",
              "        style=\"border:none\" />\n",
              "     <output id=\"result-752669f3-b906-4aa4-9483-b9c8e6ce6da1\">\n",
              "      Upload widget is only available when the cell has been executed in the\n",
              "      current browser session. Please rerun this cell to enable.\n",
              "      </output>\n",
              "      <script src=\"/nbextensions/google.colab/files.js\"></script> "
            ],
            "text/plain": [
              "<IPython.core.display.HTML object>"
            ]
          },
          "metadata": {}
        },
        {
          "output_type": "stream",
          "text": [
            "Saving Credit Card Customer Data.xlsx to Credit Card Customer Data.xlsx\n"
          ],
          "name": "stdout"
        }
      ]
    },
    {
      "cell_type": "code",
      "metadata": {
        "colab": {
          "base_uri": "https://localhost:8080/",
          "height": 206
        },
        "id": "p4QVUUO3VHHH",
        "outputId": "8e316706-4ab7-4497-a39a-12626317825b"
      },
      "source": [
        "data = pd.read_excel('Credit Card Customer Data.xlsx')\n",
        "data.head()\n",
        "\n"
      ],
      "execution_count": null,
      "outputs": [
        {
          "output_type": "execute_result",
          "data": {
            "text/html": [
              "<div>\n",
              "<style scoped>\n",
              "    .dataframe tbody tr th:only-of-type {\n",
              "        vertical-align: middle;\n",
              "    }\n",
              "\n",
              "    .dataframe tbody tr th {\n",
              "        vertical-align: top;\n",
              "    }\n",
              "\n",
              "    .dataframe thead th {\n",
              "        text-align: right;\n",
              "    }\n",
              "</style>\n",
              "<table border=\"1\" class=\"dataframe\">\n",
              "  <thead>\n",
              "    <tr style=\"text-align: right;\">\n",
              "      <th></th>\n",
              "      <th>Sl_No</th>\n",
              "      <th>Customer Key</th>\n",
              "      <th>Avg_Credit_Limit</th>\n",
              "      <th>Total_Credit_Cards</th>\n",
              "      <th>Total_visits_bank</th>\n",
              "      <th>Total_visits_online</th>\n",
              "      <th>Total_calls_made</th>\n",
              "    </tr>\n",
              "  </thead>\n",
              "  <tbody>\n",
              "    <tr>\n",
              "      <th>0</th>\n",
              "      <td>1</td>\n",
              "      <td>87073</td>\n",
              "      <td>100000</td>\n",
              "      <td>2</td>\n",
              "      <td>1</td>\n",
              "      <td>1</td>\n",
              "      <td>0</td>\n",
              "    </tr>\n",
              "    <tr>\n",
              "      <th>1</th>\n",
              "      <td>2</td>\n",
              "      <td>38414</td>\n",
              "      <td>50000</td>\n",
              "      <td>3</td>\n",
              "      <td>0</td>\n",
              "      <td>10</td>\n",
              "      <td>9</td>\n",
              "    </tr>\n",
              "    <tr>\n",
              "      <th>2</th>\n",
              "      <td>3</td>\n",
              "      <td>17341</td>\n",
              "      <td>50000</td>\n",
              "      <td>7</td>\n",
              "      <td>1</td>\n",
              "      <td>3</td>\n",
              "      <td>4</td>\n",
              "    </tr>\n",
              "    <tr>\n",
              "      <th>3</th>\n",
              "      <td>4</td>\n",
              "      <td>40496</td>\n",
              "      <td>30000</td>\n",
              "      <td>5</td>\n",
              "      <td>1</td>\n",
              "      <td>1</td>\n",
              "      <td>4</td>\n",
              "    </tr>\n",
              "    <tr>\n",
              "      <th>4</th>\n",
              "      <td>5</td>\n",
              "      <td>47437</td>\n",
              "      <td>100000</td>\n",
              "      <td>6</td>\n",
              "      <td>0</td>\n",
              "      <td>12</td>\n",
              "      <td>3</td>\n",
              "    </tr>\n",
              "  </tbody>\n",
              "</table>\n",
              "</div>"
            ],
            "text/plain": [
              "   Sl_No  Customer Key  ...  Total_visits_online  Total_calls_made\n",
              "0      1         87073  ...                    1                 0\n",
              "1      2         38414  ...                   10                 9\n",
              "2      3         17341  ...                    3                 4\n",
              "3      4         40496  ...                    1                 4\n",
              "4      5         47437  ...                   12                 3\n",
              "\n",
              "[5 rows x 7 columns]"
            ]
          },
          "metadata": {},
          "execution_count": 4
        }
      ]
    },
    {
      "cell_type": "markdown",
      "metadata": {
        "id": "ZmxlhPKovvO-"
      },
      "source": [
        "#### Checking the info of the data"
      ]
    },
    {
      "cell_type": "code",
      "metadata": {
        "id": "dtroAFl9vvO-",
        "colab": {
          "base_uri": "https://localhost:8080/"
        },
        "outputId": "8bcdf6f3-473d-4240-fbd1-1bbc993d37f2"
      },
      "source": [
        "data.info()"
      ],
      "execution_count": null,
      "outputs": [
        {
          "output_type": "stream",
          "text": [
            "<class 'pandas.core.frame.DataFrame'>\n",
            "RangeIndex: 660 entries, 0 to 659\n",
            "Data columns (total 7 columns):\n",
            " #   Column               Non-Null Count  Dtype\n",
            "---  ------               --------------  -----\n",
            " 0   Sl_No                660 non-null    int64\n",
            " 1   Customer Key         660 non-null    int64\n",
            " 2   Avg_Credit_Limit     660 non-null    int64\n",
            " 3   Total_Credit_Cards   660 non-null    int64\n",
            " 4   Total_visits_bank    660 non-null    int64\n",
            " 5   Total_visits_online  660 non-null    int64\n",
            " 6   Total_calls_made     660 non-null    int64\n",
            "dtypes: int64(7)\n",
            "memory usage: 36.2 KB\n"
          ],
          "name": "stdout"
        }
      ]
    },
    {
      "cell_type": "markdown",
      "metadata": {
        "id": "EPP73jY5vvPA"
      },
      "source": [
        "**Observations:**\n",
        "\n",
        "- There are 660 observations and 7 columns in the dataset.\n",
        "- All columns have 660 non-null values i.e. there are no missing values.\n",
        "- All columns are of int64 data type."
      ]
    },
    {
      "cell_type": "markdown",
      "metadata": {
        "id": "DOP-MnWovvPA"
      },
      "source": [
        "**There are no missing values. Let us now figure out the uniques in each column.** "
      ]
    },
    {
      "cell_type": "code",
      "metadata": {
        "id": "OCRC8zfDvvPB",
        "colab": {
          "base_uri": "https://localhost:8080/"
        },
        "outputId": "3c4b044b-6942-4095-9f22-28e183a9c066"
      },
      "source": [
        "data.nunique()"
      ],
      "execution_count": null,
      "outputs": [
        {
          "output_type": "execute_result",
          "data": {
            "text/plain": [
              "Sl_No                  660\n",
              "Customer Key           655\n",
              "Avg_Credit_Limit       110\n",
              "Total_Credit_Cards      10\n",
              "Total_visits_bank        6\n",
              "Total_visits_online     16\n",
              "Total_calls_made        11\n",
              "dtype: int64"
            ]
          },
          "metadata": {},
          "execution_count": 6
        }
      ]
    },
    {
      "cell_type": "markdown",
      "metadata": {
        "id": "JjjUYpvovvPC"
      },
      "source": [
        "- Customer key, which is an identifier, has repeated values. We should treat the same accordingly before applying any algorithm."
      ]
    },
    {
      "cell_type": "markdown",
      "metadata": {
        "id": "fpZolGOdvvPC"
      },
      "source": [
        "## Data Preprocessing and Exploratory Data Analysis"
      ]
    },
    {
      "cell_type": "code",
      "metadata": {
        "id": "bWj8abFqvvPD",
        "colab": {
          "base_uri": "https://localhost:8080/"
        },
        "outputId": "c61cab89-5b6d-45ab-aedb-1109b8cb5af8"
      },
      "source": [
        "# Identifying the duplicated customer keys\n",
        "duplicate_keys = data[data['Customer Key'].duplicated()]\n",
        "print(duplicate_keys)"
      ],
      "execution_count": null,
      "outputs": [
        {
          "output_type": "stream",
          "text": [
            "     Sl_No  Customer Key  ...  Total_visits_online  Total_calls_made\n",
            "332    333         47437  ...                    1                 0\n",
            "398    399         96929  ...                    2                 2\n",
            "432    433         37252  ...                    1                 2\n",
            "541    542         50706  ...                    2                 2\n",
            "632    633         97935  ...                    7                 0\n",
            "\n",
            "[5 rows x 7 columns]\n"
          ],
          "name": "stdout"
        }
      ]
    },
    {
      "cell_type": "code",
      "metadata": {
        "id": "WeUihO0KvvPF",
        "colab": {
          "base_uri": "https://localhost:8080/"
        },
        "outputId": "7a733993-471a-4568-e07a-d4a3d1bf585f"
      },
      "source": [
        "# Dropping duplicated keys\n",
        "\n",
        "data = data.drop_duplicates(subset=['Customer Key'])\n",
        "print(data[data['Customer Key'].duplicated()])"
      ],
      "execution_count": null,
      "outputs": [
        {
          "output_type": "stream",
          "text": [
            "Empty DataFrame\n",
            "Columns: [Sl_No, Customer Key, Avg_Credit_Limit, Total_Credit_Cards, Total_visits_bank, Total_visits_online, Total_calls_made]\n",
            "Index: []\n"
          ],
          "name": "stdout"
        }
      ]
    },
    {
      "cell_type": "code",
      "metadata": {
        "colab": {
          "base_uri": "https://localhost:8080/"
        },
        "id": "YPTkzD9ki70w",
        "outputId": "c8da7855-0744-4b7e-b77c-82f567167ef3"
      },
      "source": [
        "data.nunique()\n"
      ],
      "execution_count": null,
      "outputs": [
        {
          "output_type": "execute_result",
          "data": {
            "text/plain": [
              "Sl_No                  655\n",
              "Customer Key           655\n",
              "Avg_Credit_Limit       109\n",
              "Total_Credit_Cards      10\n",
              "Total_visits_bank        6\n",
              "Total_visits_online     16\n",
              "Total_calls_made        11\n",
              "dtype: int64"
            ]
          },
          "metadata": {},
          "execution_count": 9
        }
      ]
    },
    {
      "cell_type": "markdown",
      "metadata": {
        "id": "IDaRoTAQvvPF"
      },
      "source": [
        "We have done some basic checks. Now, let's drop the variables that are not required for our analysis."
      ]
    },
    {
      "cell_type": "code",
      "metadata": {
        "id": "albq4GJ2vvPF"
      },
      "source": [
        "data.drop(columns = ['Sl_No', 'Customer Key'], inplace = True)"
      ],
      "execution_count": null,
      "outputs": []
    },
    {
      "cell_type": "markdown",
      "metadata": {
        "id": "fRqvXDr4vvPG"
      },
      "source": [
        "Now that we have dropped unnecessary column. We can again check for duplicates. Duplicates would mean customers with identical features."
      ]
    },
    {
      "cell_type": "code",
      "metadata": {
        "id": "J2EV_kXUvvPG",
        "scrolled": true,
        "colab": {
          "base_uri": "https://localhost:8080/",
          "height": 394
        },
        "outputId": "1846b6f9-4bbc-4b85-945c-43477d9b5b33"
      },
      "source": [
        "data[data.duplicated()]"
      ],
      "execution_count": null,
      "outputs": [
        {
          "output_type": "execute_result",
          "data": {
            "text/html": [
              "<div>\n",
              "<style scoped>\n",
              "    .dataframe tbody tr th:only-of-type {\n",
              "        vertical-align: middle;\n",
              "    }\n",
              "\n",
              "    .dataframe tbody tr th {\n",
              "        vertical-align: top;\n",
              "    }\n",
              "\n",
              "    .dataframe thead th {\n",
              "        text-align: right;\n",
              "    }\n",
              "</style>\n",
              "<table border=\"1\" class=\"dataframe\">\n",
              "  <thead>\n",
              "    <tr style=\"text-align: right;\">\n",
              "      <th></th>\n",
              "      <th>Avg_Credit_Limit</th>\n",
              "      <th>Total_Credit_Cards</th>\n",
              "      <th>Total_visits_bank</th>\n",
              "      <th>Total_visits_online</th>\n",
              "      <th>Total_calls_made</th>\n",
              "    </tr>\n",
              "  </thead>\n",
              "  <tbody>\n",
              "    <tr>\n",
              "      <th>162</th>\n",
              "      <td>8000</td>\n",
              "      <td>2</td>\n",
              "      <td>0</td>\n",
              "      <td>3</td>\n",
              "      <td>4</td>\n",
              "    </tr>\n",
              "    <tr>\n",
              "      <th>175</th>\n",
              "      <td>6000</td>\n",
              "      <td>1</td>\n",
              "      <td>0</td>\n",
              "      <td>2</td>\n",
              "      <td>5</td>\n",
              "    </tr>\n",
              "    <tr>\n",
              "      <th>215</th>\n",
              "      <td>8000</td>\n",
              "      <td>4</td>\n",
              "      <td>0</td>\n",
              "      <td>4</td>\n",
              "      <td>7</td>\n",
              "    </tr>\n",
              "    <tr>\n",
              "      <th>295</th>\n",
              "      <td>10000</td>\n",
              "      <td>6</td>\n",
              "      <td>4</td>\n",
              "      <td>2</td>\n",
              "      <td>3</td>\n",
              "    </tr>\n",
              "    <tr>\n",
              "      <th>324</th>\n",
              "      <td>9000</td>\n",
              "      <td>4</td>\n",
              "      <td>5</td>\n",
              "      <td>0</td>\n",
              "      <td>4</td>\n",
              "    </tr>\n",
              "    <tr>\n",
              "      <th>361</th>\n",
              "      <td>18000</td>\n",
              "      <td>6</td>\n",
              "      <td>3</td>\n",
              "      <td>1</td>\n",
              "      <td>4</td>\n",
              "    </tr>\n",
              "    <tr>\n",
              "      <th>378</th>\n",
              "      <td>12000</td>\n",
              "      <td>6</td>\n",
              "      <td>5</td>\n",
              "      <td>2</td>\n",
              "      <td>1</td>\n",
              "    </tr>\n",
              "    <tr>\n",
              "      <th>385</th>\n",
              "      <td>8000</td>\n",
              "      <td>7</td>\n",
              "      <td>4</td>\n",
              "      <td>2</td>\n",
              "      <td>0</td>\n",
              "    </tr>\n",
              "    <tr>\n",
              "      <th>395</th>\n",
              "      <td>5000</td>\n",
              "      <td>4</td>\n",
              "      <td>5</td>\n",
              "      <td>0</td>\n",
              "      <td>1</td>\n",
              "    </tr>\n",
              "    <tr>\n",
              "      <th>455</th>\n",
              "      <td>47000</td>\n",
              "      <td>6</td>\n",
              "      <td>2</td>\n",
              "      <td>0</td>\n",
              "      <td>4</td>\n",
              "    </tr>\n",
              "    <tr>\n",
              "      <th>497</th>\n",
              "      <td>52000</td>\n",
              "      <td>4</td>\n",
              "      <td>2</td>\n",
              "      <td>1</td>\n",
              "      <td>2</td>\n",
              "    </tr>\n",
              "  </tbody>\n",
              "</table>\n",
              "</div>"
            ],
            "text/plain": [
              "     Avg_Credit_Limit  ...  Total_calls_made\n",
              "162              8000  ...                 4\n",
              "175              6000  ...                 5\n",
              "215              8000  ...                 7\n",
              "295             10000  ...                 3\n",
              "324              9000  ...                 4\n",
              "361             18000  ...                 4\n",
              "378             12000  ...                 1\n",
              "385              8000  ...                 0\n",
              "395              5000  ...                 1\n",
              "455             47000  ...                 4\n",
              "497             52000  ...                 2\n",
              "\n",
              "[11 rows x 5 columns]"
            ]
          },
          "metadata": {},
          "execution_count": 11
        }
      ]
    },
    {
      "cell_type": "markdown",
      "metadata": {
        "id": "V7Xt_Ss3vvPG"
      },
      "source": [
        "We can drop these duplicated rows from the data"
      ]
    },
    {
      "cell_type": "code",
      "metadata": {
        "id": "aBnoG0IivvPH"
      },
      "source": [
        "data=data[~data.duplicated()]"
      ],
      "execution_count": null,
      "outputs": []
    },
    {
      "cell_type": "code",
      "metadata": {
        "id": "Bgj7fBervvPH",
        "colab": {
          "base_uri": "https://localhost:8080/"
        },
        "outputId": "d6206872-9921-4c3f-b472-48c19d76a534"
      },
      "source": [
        "data.shape"
      ],
      "execution_count": null,
      "outputs": [
        {
          "output_type": "execute_result",
          "data": {
            "text/plain": [
              "(644, 5)"
            ]
          },
          "metadata": {},
          "execution_count": 13
        }
      ]
    },
    {
      "cell_type": "markdown",
      "metadata": {
        "id": "JtAIAYr9vvPH"
      },
      "source": [
        "- After removing duplicated keys and rows and unnecessary columns, there are 644 unique observations and 5 columns in our data."
      ]
    },
    {
      "cell_type": "markdown",
      "metadata": {
        "id": "LmykagZ0vvPI"
      },
      "source": [
        "#### Summary Statistics"
      ]
    },
    {
      "cell_type": "code",
      "metadata": {
        "id": "yg-YXbPNvvPI",
        "colab": {
          "base_uri": "https://localhost:8080/",
          "height": 206
        },
        "outputId": "34d859cb-20fc-4269-fae8-a6ffa64e516a"
      },
      "source": [
        "data.describe().T"
      ],
      "execution_count": null,
      "outputs": [
        {
          "output_type": "execute_result",
          "data": {
            "text/html": [
              "<div>\n",
              "<style scoped>\n",
              "    .dataframe tbody tr th:only-of-type {\n",
              "        vertical-align: middle;\n",
              "    }\n",
              "\n",
              "    .dataframe tbody tr th {\n",
              "        vertical-align: top;\n",
              "    }\n",
              "\n",
              "    .dataframe thead th {\n",
              "        text-align: right;\n",
              "    }\n",
              "</style>\n",
              "<table border=\"1\" class=\"dataframe\">\n",
              "  <thead>\n",
              "    <tr style=\"text-align: right;\">\n",
              "      <th></th>\n",
              "      <th>count</th>\n",
              "      <th>mean</th>\n",
              "      <th>std</th>\n",
              "      <th>min</th>\n",
              "      <th>25%</th>\n",
              "      <th>50%</th>\n",
              "      <th>75%</th>\n",
              "      <th>max</th>\n",
              "    </tr>\n",
              "  </thead>\n",
              "  <tbody>\n",
              "    <tr>\n",
              "      <th>Avg_Credit_Limit</th>\n",
              "      <td>644.0</td>\n",
              "      <td>34543.478261</td>\n",
              "      <td>37428.704286</td>\n",
              "      <td>3000.0</td>\n",
              "      <td>11000.0</td>\n",
              "      <td>18000.0</td>\n",
              "      <td>48000.00</td>\n",
              "      <td>200000.0</td>\n",
              "    </tr>\n",
              "    <tr>\n",
              "      <th>Total_Credit_Cards</th>\n",
              "      <td>644.0</td>\n",
              "      <td>4.694099</td>\n",
              "      <td>2.175338</td>\n",
              "      <td>1.0</td>\n",
              "      <td>3.0</td>\n",
              "      <td>5.0</td>\n",
              "      <td>6.00</td>\n",
              "      <td>10.0</td>\n",
              "    </tr>\n",
              "    <tr>\n",
              "      <th>Total_visits_bank</th>\n",
              "      <td>644.0</td>\n",
              "      <td>2.395963</td>\n",
              "      <td>1.626964</td>\n",
              "      <td>0.0</td>\n",
              "      <td>1.0</td>\n",
              "      <td>2.0</td>\n",
              "      <td>4.00</td>\n",
              "      <td>5.0</td>\n",
              "    </tr>\n",
              "    <tr>\n",
              "      <th>Total_visits_online</th>\n",
              "      <td>644.0</td>\n",
              "      <td>2.624224</td>\n",
              "      <td>2.957728</td>\n",
              "      <td>0.0</td>\n",
              "      <td>1.0</td>\n",
              "      <td>2.0</td>\n",
              "      <td>4.00</td>\n",
              "      <td>15.0</td>\n",
              "    </tr>\n",
              "    <tr>\n",
              "      <th>Total_calls_made</th>\n",
              "      <td>644.0</td>\n",
              "      <td>3.608696</td>\n",
              "      <td>2.880025</td>\n",
              "      <td>0.0</td>\n",
              "      <td>1.0</td>\n",
              "      <td>3.0</td>\n",
              "      <td>5.25</td>\n",
              "      <td>10.0</td>\n",
              "    </tr>\n",
              "  </tbody>\n",
              "</table>\n",
              "</div>"
            ],
            "text/plain": [
              "                     count          mean  ...       75%       max\n",
              "Avg_Credit_Limit     644.0  34543.478261  ...  48000.00  200000.0\n",
              "Total_Credit_Cards   644.0      4.694099  ...      6.00      10.0\n",
              "Total_visits_bank    644.0      2.395963  ...      4.00       5.0\n",
              "Total_visits_online  644.0      2.624224  ...      4.00      15.0\n",
              "Total_calls_made     644.0      3.608696  ...      5.25      10.0\n",
              "\n",
              "[5 rows x 8 columns]"
            ]
          },
          "metadata": {},
          "execution_count": 14
        }
      ]
    },
    {
      "cell_type": "markdown",
      "metadata": {
        "id": "kAEzS8-GvvPI"
      },
      "source": [
        "**Observations:**\n",
        "\n",
        "* On average, a customer has more online visits compared to bank visits, and more calls made than both. \n",
        "\n",
        "* There is a very high max value(200k) for credit card limit compared to the lowest one (3k) \n",
        "\n",
        "* The average number of credit cards per person is about 4.7. "
      ]
    },
    {
      "cell_type": "markdown",
      "metadata": {
        "id": "xUxHbmglvvPJ"
      },
      "source": [
        "#### Now let's go ahead with the exploring each variable at hand. We will check the distribution and outliers for each variable in the data."
      ]
    },
    {
      "cell_type": "code",
      "metadata": {
        "id": "TmKqRM1JvvPJ",
        "colab": {
          "base_uri": "https://localhost:8080/",
          "height": 1000
        },
        "outputId": "d14c8a95-4ce9-429f-9b78-7ede3652bc8c"
      },
      "source": [
        " \n",
        "\n",
        "for col in data.columns:\n",
        "     print(col)\n",
        "     print('Skew :',round(data[col].skew(),2))\n",
        "     plt.figure(figsize=(15,4))\n",
        "     plt.subplot(1,2,1)\n",
        "     data[col].hist()\n",
        "     plt.ylabel('count')\n",
        "     plt.subplot(1,2,2)\n",
        "     sns.boxplot(x=data[col])\n",
        "     plt.show()"
      ],
      "execution_count": null,
      "outputs": [
        {
          "output_type": "stream",
          "text": [
            "Avg_Credit_Limit\n",
            "Skew : 2.19\n"
          ],
          "name": "stdout"
        },
        {
          "output_type": "display_data",
          "data": {
            "image/png": "[encoded data removed]",
            "text/plain": [
              "<Figure size 1080x288 with 2 Axes>"
            ]
          },
          "metadata": {
            "needs_background": "light"
          }
        },
        {
          "output_type": "stream",
          "text": [
            "Total_Credit_Cards\n",
            "Skew : 0.17\n"
          ],
          "name": "stdout"
        },
        {
          "output_type": "display_data",
          "data": {
            "image/png": "[encoded data removed]",
            "text/plain": [
              "<Figure size 1080x288 with 2 Axes>"
            ]
          },
          "metadata": {
            "needs_background": "light"
          }
        },
        {
          "output_type": "stream",
          "text": [
            "Total_visits_bank\n",
            "Skew : 0.15\n"
          ],
          "name": "stdout"
        },
        {
          "output_type": "display_data",
          "data": {
            "image/png": "[encoded data removed]",
            "text/plain": [
              "<Figure size 1080x288 with 2 Axes>"
            ]
          },
          "metadata": {
            "needs_background": "light"
          }
        },
        {
          "output_type": "stream",
          "text": [
            "Total_visits_online\n",
            "Skew : 2.21\n"
          ],
          "name": "stdout"
        },
        {
          "output_type": "display_data",
          "data": {
            "image/png": "[encoded data removed]",
            "text/plain": [
              "<Figure size 1080x288 with 2 Axes>"
            ]
          },
          "metadata": {
            "needs_background": "light"
          }
        },
        {
          "output_type": "stream",
          "text": [
            "Total_calls_made\n",
            "Skew : 0.65\n"
          ],
          "name": "stdout"
        },
        {
          "output_type": "display_data",
          "data": {
            "image/png": "[encoded data removed]",
            "text/plain": [
              "<Figure size 1080x288 with 2 Axes>"
            ]
          },
          "metadata": {
            "needs_background": "light"
          }
        }
      ]
    },
    {
      "cell_type": "markdown",
      "metadata": {
        "id": "yuraaJ3wvvPK"
      },
      "source": [
        "**Observations:**\n",
        "\n",
        "* Average credit limit is heavily skewed to the right, and the boxplot shows that there are many outliers. \n",
        "\n",
        "* Total Bank visits seems fairly evenly distributed for each value between 1 to 5 visits\n",
        "\n",
        "* Total online visits also seems skewed to the right \n",
        "\n"
      ]
    },
    {
      "cell_type": "markdown",
      "metadata": {
        "id": "KGeGbF8ovvPK"
      },
      "source": [
        "**Now, let's check the correlation among different variables.**"
      ]
    },
    {
      "cell_type": "code",
      "metadata": {
        "id": "-INtorZDvvPK",
        "colab": {
          "base_uri": "https://localhost:8080/",
          "height": 569
        },
        "outputId": "23b67e2e-bf40-41c1-8e90-9c4dc69be482"
      },
      "source": [
        "plt.figure(figsize=(8,8))\n",
        "sns.heatmap(data.corr(), annot=True, fmt='0.2f')\n",
        "plt.show()"
      ],
      "execution_count": null,
      "outputs": [
        {
          "output_type": "display_data",
          "data": {
            "image/png": "[encoded data removed]",
            "text/plain": [
              "<Figure size 576x576 with 2 Axes>"
            ]
          },
          "metadata": {
            "needs_background": "light"
          }
        }
      ]
    },
    {
      "cell_type": "markdown",
      "metadata": {
        "id": "m_rQynXTvvPL"
      },
      "source": [
        "**Observation:**\n",
        "\n",
        "- Avg_Credit_Limit is positively correlated with Total_Credit_Cards Total_visits_online which can makes sense.\n",
        "- Avg_Credit_Limit is negatively correlated with Total_calls_made and Total_visits_bank.\n",
        "- Total_visits_bank, Total_visits_online, Total_calls_made are negatively correlated which implies that majority of customers use only one of these channels to contact the bank."
      ]
    },
    {
      "cell_type": "markdown",
      "metadata": {
        "id": "XFimA8PUvvPL"
      },
      "source": [
        "#### Scaling the data"
      ]
    },
    {
      "cell_type": "code",
      "metadata": {
        "id": "TjqSX-50vvPL"
      },
      "source": [
        "scaler=StandardScaler()\n",
        "data_scaled=pd.DataFrame(scaler.fit_transform(data), columns=data.columns)"
      ],
      "execution_count": null,
      "outputs": []
    },
    {
      "cell_type": "code",
      "metadata": {
        "id": "L2cyzdZNvvPM",
        "colab": {
          "base_uri": "https://localhost:8080/",
          "height": 206
        },
        "outputId": "b2f6e883-edc6-4d32-f678-6d62cd158e95"
      },
      "source": [
        "data_scaled.head()"
      ],
      "execution_count": null,
      "outputs": [
        {
          "output_type": "execute_result",
          "data": {
            "text/html": [
              "<div>\n",
              "<style scoped>\n",
              "    .dataframe tbody tr th:only-of-type {\n",
              "        vertical-align: middle;\n",
              "    }\n",
              "\n",
              "    .dataframe tbody tr th {\n",
              "        vertical-align: top;\n",
              "    }\n",
              "\n",
              "    .dataframe thead th {\n",
              "        text-align: right;\n",
              "    }\n",
              "</style>\n",
              "<table border=\"1\" class=\"dataframe\">\n",
              "  <thead>\n",
              "    <tr style=\"text-align: right;\">\n",
              "      <th></th>\n",
              "      <th>Avg_Credit_Limit</th>\n",
              "      <th>Total_Credit_Cards</th>\n",
              "      <th>Total_visits_bank</th>\n",
              "      <th>Total_visits_online</th>\n",
              "      <th>Total_calls_made</th>\n",
              "    </tr>\n",
              "  </thead>\n",
              "  <tbody>\n",
              "    <tr>\n",
              "      <th>0</th>\n",
              "      <td>1.750192</td>\n",
              "      <td>-1.239437</td>\n",
              "      <td>-0.858684</td>\n",
              "      <td>-0.549573</td>\n",
              "      <td>-1.253982</td>\n",
              "    </tr>\n",
              "    <tr>\n",
              "      <th>1</th>\n",
              "      <td>0.413280</td>\n",
              "      <td>-0.779381</td>\n",
              "      <td>-1.473803</td>\n",
              "      <td>2.495669</td>\n",
              "      <td>1.873420</td>\n",
              "    </tr>\n",
              "    <tr>\n",
              "      <th>2</th>\n",
              "      <td>0.413280</td>\n",
              "      <td>1.060843</td>\n",
              "      <td>-0.858684</td>\n",
              "      <td>0.127148</td>\n",
              "      <td>0.135974</td>\n",
              "    </tr>\n",
              "    <tr>\n",
              "      <th>3</th>\n",
              "      <td>-0.121485</td>\n",
              "      <td>0.140731</td>\n",
              "      <td>-0.858684</td>\n",
              "      <td>-0.549573</td>\n",
              "      <td>0.135974</td>\n",
              "    </tr>\n",
              "    <tr>\n",
              "      <th>4</th>\n",
              "      <td>1.750192</td>\n",
              "      <td>0.600787</td>\n",
              "      <td>-1.473803</td>\n",
              "      <td>3.172390</td>\n",
              "      <td>-0.211515</td>\n",
              "    </tr>\n",
              "  </tbody>\n",
              "</table>\n",
              "</div>"
            ],
            "text/plain": [
              "   Avg_Credit_Limit  Total_Credit_Cards  ...  Total_visits_online  Total_calls_made\n",
              "0          1.750192           -1.239437  ...            -0.549573         -1.253982\n",
              "1          0.413280           -0.779381  ...             2.495669          1.873420\n",
              "2          0.413280            1.060843  ...             0.127148          0.135974\n",
              "3         -0.121485            0.140731  ...            -0.549573          0.135974\n",
              "4          1.750192            0.600787  ...             3.172390         -0.211515\n",
              "\n",
              "[5 rows x 5 columns]"
            ]
          },
          "metadata": {},
          "execution_count": 18
        }
      ]
    },
    {
      "cell_type": "code",
      "metadata": {
        "id": "3ESvHP6SvvPM"
      },
      "source": [
        "#Creating copy of the data to store labels from each algorithm\n",
        "data_scaled_copy = data_scaled.copy(deep=True)"
      ],
      "execution_count": null,
      "outputs": []
    },
    {
      "cell_type": "markdown",
      "metadata": {
        "id": "1lVGJ-HRvvPN"
      },
      "source": [
        "## K-Means"
      ]
    },
    {
      "cell_type": "markdown",
      "metadata": {
        "id": "JCT1SB7_vvPN"
      },
      "source": [
        "Let us now fit k-means algorithm on our scaled data and find out the optimum number of clusters to use.\n",
        "\n",
        "We will do this in 3 steps:\n",
        "1. Initializing a dictionary to store the SSE for each k\n",
        "2. Running for a range of Ks and store SSE for each run\n",
        "3. Plotting the SSE vs K and find the elbow"
      ]
    },
    {
      "cell_type": "code",
      "metadata": {
        "id": "HkQWkpSovvPN",
        "colab": {
          "base_uri": "https://localhost:8080/",
          "height": 279
        },
        "outputId": "374f682b-dd4c-459d-c426-546aabd5bc4a"
      },
      "source": [
        "# step 1\n",
        "sse = {} \n",
        "\n",
        "# step 2 - iterating for a range of Ks and fit the scaled data to the algorithm. Using inertia attribute from the clustering object and \n",
        "# storing the inertia value for that k \n",
        "for k in range(1, 10):\n",
        "    kmeans = KMeans(n_clusters=k, max_iter=1000, random_state=1).fit(data_scaled)\n",
        "    sse[k] = kmeans.inertia_\n",
        "\n",
        "# step 3\n",
        "plt.figure()\n",
        "plt.plot(list(sse.keys()), list(sse.values()), 'bx-')\n",
        "plt.xlabel(\"Number of cluster\")\n",
        "plt.ylabel(\"SSE\")\n",
        "plt.show()"
      ],
      "execution_count": null,
      "outputs": [
        {
          "output_type": "display_data",
          "data": {
            "image/png": "[encoded data removed]",
            "text/plain": [
              "<Figure size 432x288 with 1 Axes>"
            ]
          },
          "metadata": {
            "needs_background": "light"
          }
        }
      ]
    },
    {
      "cell_type": "markdown",
      "metadata": {
        "id": "wYIbRxO2vvPO"
      },
      "source": [
        "- Looking at the plot, we can say that elbow point is achieved for k=3.\n",
        "- We will fit the k-means again with k=3 to get the labels."
      ]
    },
    {
      "cell_type": "code",
      "metadata": {
        "id": "bkeg6XsBvvPO"
      },
      "source": [
        "kmeans =  KMeans(n_clusters = 3, random_state = 1) #Applying the K-Means algorithm\n",
        "kmeans.fit(data_scaled) #Fitting the kmeans function on the scaled data\n",
        "\n",
        "#Adding predicted labels to the original data and scaled data \n",
        "data_scaled_copy['Labels'] = kmeans.predict(data_scaled) #Saving the predictions on the scaled data from K-Means\n",
        "data['Labels'] = kmeans.predict(data_scaled) #Saving the predictions on the scaled data from K-Means"
      ],
      "execution_count": null,
      "outputs": []
    },
    {
      "cell_type": "markdown",
      "metadata": {
        "id": "NeQpc9Tdi705"
      },
      "source": [
        "* We chose random_state = 1 so that we can replicate these same exact results if we want to, since different iterations of the code may produce different results. \n",
        "\n",
        "* We chose k = 3 because the elbow plot shows that 3 is the number of groups after the last big drop of the curve, we want to choose the value which precedes the point at which the variation doesn't go down as quickly. "
      ]
    },
    {
      "cell_type": "markdown",
      "metadata": {
        "id": "9SPMPRF1vvPP"
      },
      "source": [
        "We have generated the labels with k-means. Let us look at the various features based on the labels."
      ]
    },
    {
      "cell_type": "markdown",
      "metadata": {
        "id": "tuLEkmr1vvPQ"
      },
      "source": [
        "#### **Creating cluster profiles using the below summary statistics and box plots for each label**"
      ]
    },
    {
      "cell_type": "code",
      "metadata": {
        "id": "DDqfjsfl2lew",
        "colab": {
          "base_uri": "https://localhost:8080/"
        },
        "outputId": "328b06f6-c4b0-41e9-a996-5330ec40bc4d"
      },
      "source": [
        "#Number of observations in each cluster\n",
        "data.Labels.value_counts()"
      ],
      "execution_count": null,
      "outputs": [
        {
          "output_type": "execute_result",
          "data": {
            "text/plain": [
              "1    374\n",
              "0    221\n",
              "2     49\n",
              "Name: Labels, dtype: int64"
            ]
          },
          "metadata": {},
          "execution_count": 22
        }
      ]
    },
    {
      "cell_type": "code",
      "metadata": {
        "id": "eu7EO0nn2lex",
        "colab": {
          "base_uri": "https://localhost:8080/",
          "height": 206
        },
        "outputId": "2d7b8a7f-c0f2-47af-f330-8f4f8b00afb4"
      },
      "source": [
        "#Calculating summary statistics of the original data for each label\n",
        "mean = data.groupby('Labels').mean()\n",
        "median = data.groupby('Labels').median()\n",
        "df_kmeans = pd.concat([mean, median], axis=0)\n",
        "df_kmeans.index = ['group_0 Mean', 'group_1 Mean', 'group_2 Mean', 'group_0 Median', 'group_1 Median', 'group_2 Median']\n",
        "df_kmeans.T"
      ],
      "execution_count": null,
      "outputs": [
        {
          "output_type": "execute_result",
          "data": {
            "text/html": [
              "<div>\n",
              "<style scoped>\n",
              "    .dataframe tbody tr th:only-of-type {\n",
              "        vertical-align: middle;\n",
              "    }\n",
              "\n",
              "    .dataframe tbody tr th {\n",
              "        vertical-align: top;\n",
              "    }\n",
              "\n",
              "    .dataframe thead th {\n",
              "        text-align: right;\n",
              "    }\n",
              "</style>\n",
              "<table border=\"1\" class=\"dataframe\">\n",
              "  <thead>\n",
              "    <tr style=\"text-align: right;\">\n",
              "      <th></th>\n",
              "      <th>group_0 Mean</th>\n",
              "      <th>group_1 Mean</th>\n",
              "      <th>group_2 Mean</th>\n",
              "      <th>group_0 Median</th>\n",
              "      <th>group_1 Median</th>\n",
              "      <th>group_2 Median</th>\n",
              "    </tr>\n",
              "  </thead>\n",
              "  <tbody>\n",
              "    <tr>\n",
              "      <th>Avg_Credit_Limit</th>\n",
              "      <td>12239.819005</td>\n",
              "      <td>33893.048128</td>\n",
              "      <td>140102.040816</td>\n",
              "      <td>12000.0</td>\n",
              "      <td>31500.0</td>\n",
              "      <td>145000.0</td>\n",
              "    </tr>\n",
              "    <tr>\n",
              "      <th>Total_Credit_Cards</th>\n",
              "      <td>2.411765</td>\n",
              "      <td>5.508021</td>\n",
              "      <td>8.775510</td>\n",
              "      <td>2.0</td>\n",
              "      <td>6.0</td>\n",
              "      <td>9.0</td>\n",
              "    </tr>\n",
              "    <tr>\n",
              "      <th>Total_visits_bank</th>\n",
              "      <td>0.945701</td>\n",
              "      <td>3.489305</td>\n",
              "      <td>0.591837</td>\n",
              "      <td>1.0</td>\n",
              "      <td>3.0</td>\n",
              "      <td>1.0</td>\n",
              "    </tr>\n",
              "    <tr>\n",
              "      <th>Total_visits_online</th>\n",
              "      <td>3.561086</td>\n",
              "      <td>0.975936</td>\n",
              "      <td>10.979592</td>\n",
              "      <td>4.0</td>\n",
              "      <td>1.0</td>\n",
              "      <td>11.0</td>\n",
              "    </tr>\n",
              "    <tr>\n",
              "      <th>Total_calls_made</th>\n",
              "      <td>6.891403</td>\n",
              "      <td>1.997326</td>\n",
              "      <td>1.102041</td>\n",
              "      <td>7.0</td>\n",
              "      <td>2.0</td>\n",
              "      <td>1.0</td>\n",
              "    </tr>\n",
              "  </tbody>\n",
              "</table>\n",
              "</div>"
            ],
            "text/plain": [
              "                     group_0 Mean  group_1 Mean  ...  group_1 Median  group_2 Median\n",
              "Avg_Credit_Limit     12239.819005  33893.048128  ...         31500.0        145000.0\n",
              "Total_Credit_Cards       2.411765      5.508021  ...             6.0             9.0\n",
              "Total_visits_bank        0.945701      3.489305  ...             3.0             1.0\n",
              "Total_visits_online      3.561086      0.975936  ...             1.0            11.0\n",
              "Total_calls_made         6.891403      1.997326  ...             2.0             1.0\n",
              "\n",
              "[5 rows x 6 columns]"
            ]
          },
          "metadata": {},
          "execution_count": 23
        }
      ]
    },
    {
      "cell_type": "code",
      "metadata": {
        "id": "bTnGIXvWvvPQ",
        "colab": {
          "base_uri": "https://localhost:8080/",
          "height": 480
        },
        "outputId": "a2e8c856-32ae-4e1f-a288-c0370c6e56d2"
      },
      "source": [
        "#Visualizing different features w.r.t K-means labels\n",
        "data_scaled_copy.boxplot(by = 'Labels', layout = (1,5),figsize=(20,7))\n",
        "plt.show()"
      ],
      "execution_count": null,
      "outputs": [
        {
          "output_type": "display_data",
          "data": {
            "image/png": "[encoded data removed]",
            "text/plain": [
              "<Figure size 1440x504 with 5 Axes>"
            ]
          },
          "metadata": {
            "needs_background": "light"
          }
        }
      ]
    },
    {
      "cell_type": "markdown",
      "metadata": {
        "id": "nadx5OyGvvPR"
      },
      "source": [
        "**Cluster Profiles:**\n",
        "\n",
        "* Cluster 0 seems to be the group of customers with the lowest average credit limit and their main mode of communication with the bank is through phone calls and hence don't visit the bank or visit online very much. \n",
        "\n",
        "* Cluster 2 has considerably higher avarege credit limit, posess more credit cards, they don't visit the bank as much or do calls and do most of their visits online \n",
        "\n",
        "* Cluster 1 seems to be an \"intermediate group\" though they do tend to visit the bank more often than the other groups and also do less online visits. "
      ]
    },
    {
      "cell_type": "markdown",
      "metadata": {
        "id": "B02j8pGUvvPS"
      },
      "source": [
        "## Gaussian Mixture"
      ]
    },
    {
      "cell_type": "markdown",
      "metadata": {
        "id": "qYBGfwaVvvPS"
      },
      "source": [
        "Let's create clusters using Gaussian Mixture Models"
      ]
    },
    {
      "cell_type": "markdown",
      "metadata": {
        "id": "r0N7Ss06vvPS"
      },
      "source": [
        "**We will first apply the Gaussian Mixture algorithm on the scaled data with random_state = 1. Then, we will create cluster profiles using the below summary statistics and box plots for each label. Finally, we will compare the clusters from both algorithms - K-means and Gaussian Mixture.**\n"
      ]
    },
    {
      "cell_type": "code",
      "metadata": {
        "id": "fBHzul_PvvPS"
      },
      "source": [
        "gmm = GaussianMixture(n_components = 3, random_state = 1) #Applying the Gaussian Mixture algorithm\n",
        "gmm.fit(data_scaled) #Fitting the gmm function on the scaled data\n",
        "\n",
        "data_scaled_copy['GmmLabels'] = gmm.predict(data_scaled)\n",
        "data['GmmLabels'] = gmm.predict(data_scaled)"
      ],
      "execution_count": null,
      "outputs": []
    },
    {
      "cell_type": "code",
      "metadata": {
        "id": "vBtCZOQB2ley",
        "colab": {
          "base_uri": "https://localhost:8080/"
        },
        "outputId": "a2134a67-0a4b-4af1-9001-9c31673b12c7"
      },
      "source": [
        "#Number of observations in each cluster\n",
        "data.GmmLabels.value_counts()"
      ],
      "execution_count": null,
      "outputs": [
        {
          "output_type": "execute_result",
          "data": {
            "text/plain": [
              "1    374\n",
              "0    221\n",
              "2     49\n",
              "Name: GmmLabels, dtype: int64"
            ]
          },
          "metadata": {},
          "execution_count": 26
        }
      ]
    },
    {
      "cell_type": "code",
      "metadata": {
        "id": "m21wTqIgvvPT",
        "colab": {
          "base_uri": "https://localhost:8080/",
          "height": 206
        },
        "outputId": "fa68a383-1fc8-4455-a3bd-389f31f8d9c0"
      },
      "source": [
        "#Calculating summary statistics of the original data for each label\n",
        "original_features = [\"Avg_Credit_Limit\",\"Total_Credit_Cards\",\"Total_visits_bank\",\"Total_visits_online\",\"Total_calls_made\"]\n",
        "\n",
        "mean = data.groupby('GmmLabels').mean()\n",
        "median = data.groupby('GmmLabels').median()\n",
        "df_gmm = pd.concat([mean, median], axis=0)\n",
        "df_gmm.index = ['group_0 Mean', 'group_1 Mean', 'group_2 Mean', 'group_0 Median', 'group_1 Median', 'group_2 Median']\n",
        "df_gmm[original_features].T"
      ],
      "execution_count": null,
      "outputs": [
        {
          "output_type": "execute_result",
          "data": {
            "text/html": [
              "<div>\n",
              "<style scoped>\n",
              "    .dataframe tbody tr th:only-of-type {\n",
              "        vertical-align: middle;\n",
              "    }\n",
              "\n",
              "    .dataframe tbody tr th {\n",
              "        vertical-align: top;\n",
              "    }\n",
              "\n",
              "    .dataframe thead th {\n",
              "        text-align: right;\n",
              "    }\n",
              "</style>\n",
              "<table border=\"1\" class=\"dataframe\">\n",
              "  <thead>\n",
              "    <tr style=\"text-align: right;\">\n",
              "      <th></th>\n",
              "      <th>group_0 Mean</th>\n",
              "      <th>group_1 Mean</th>\n",
              "      <th>group_2 Mean</th>\n",
              "      <th>group_0 Median</th>\n",
              "      <th>group_1 Median</th>\n",
              "      <th>group_2 Median</th>\n",
              "    </tr>\n",
              "  </thead>\n",
              "  <tbody>\n",
              "    <tr>\n",
              "      <th>Avg_Credit_Limit</th>\n",
              "      <td>12239.819005</td>\n",
              "      <td>33893.048128</td>\n",
              "      <td>140102.040816</td>\n",
              "      <td>12000.0</td>\n",
              "      <td>31500.0</td>\n",
              "      <td>145000.0</td>\n",
              "    </tr>\n",
              "    <tr>\n",
              "      <th>Total_Credit_Cards</th>\n",
              "      <td>2.411765</td>\n",
              "      <td>5.508021</td>\n",
              "      <td>8.775510</td>\n",
              "      <td>2.0</td>\n",
              "      <td>6.0</td>\n",
              "      <td>9.0</td>\n",
              "    </tr>\n",
              "    <tr>\n",
              "      <th>Total_visits_bank</th>\n",
              "      <td>0.945701</td>\n",
              "      <td>3.489305</td>\n",
              "      <td>0.591837</td>\n",
              "      <td>1.0</td>\n",
              "      <td>3.0</td>\n",
              "      <td>1.0</td>\n",
              "    </tr>\n",
              "    <tr>\n",
              "      <th>Total_visits_online</th>\n",
              "      <td>3.561086</td>\n",
              "      <td>0.975936</td>\n",
              "      <td>10.979592</td>\n",
              "      <td>4.0</td>\n",
              "      <td>1.0</td>\n",
              "      <td>11.0</td>\n",
              "    </tr>\n",
              "    <tr>\n",
              "      <th>Total_calls_made</th>\n",
              "      <td>6.891403</td>\n",
              "      <td>1.997326</td>\n",
              "      <td>1.102041</td>\n",
              "      <td>7.0</td>\n",
              "      <td>2.0</td>\n",
              "      <td>1.0</td>\n",
              "    </tr>\n",
              "  </tbody>\n",
              "</table>\n",
              "</div>"
            ],
            "text/plain": [
              "                     group_0 Mean  group_1 Mean  ...  group_1 Median  group_2 Median\n",
              "Avg_Credit_Limit     12239.819005  33893.048128  ...         31500.0        145000.0\n",
              "Total_Credit_Cards       2.411765      5.508021  ...             6.0             9.0\n",
              "Total_visits_bank        0.945701      3.489305  ...             3.0             1.0\n",
              "Total_visits_online      3.561086      0.975936  ...             1.0            11.0\n",
              "Total_calls_made         6.891403      1.997326  ...             2.0             1.0\n",
              "\n",
              "[5 rows x 6 columns]"
            ]
          },
          "metadata": {},
          "execution_count": 27
        }
      ]
    },
    {
      "cell_type": "code",
      "metadata": {
        "id": "CuJf3MeOvvPT",
        "colab": {
          "base_uri": "https://localhost:8080/",
          "height": 480
        },
        "outputId": "a475735f-05f2-4958-a760-7c32b9a8ced9"
      },
      "source": [
        "# plotting boxplots with the new GMM based labels\n",
        "\n",
        "features_with_lables = [\"Avg_Credit_Limit\",\"Total_Credit_Cards\",\"Total_visits_bank\",\"Total_visits_online\",\"Total_calls_made\",\"GmmLabels\"]\n",
        "\n",
        "data_scaled_copy[features_with_lables].boxplot(by = 'GmmLabels', layout = (1,5),figsize=(20,7))\n",
        "plt.show()"
      ],
      "execution_count": null,
      "outputs": [
        {
          "output_type": "display_data",
          "data": {
            "image/png": "[encoded data removed]",
            "text/plain": [
              "<Figure size 1440x504 with 5 Axes>"
            ]
          },
          "metadata": {
            "needs_background": "light"
          }
        }
      ]
    },
    {
      "cell_type": "markdown",
      "metadata": {
        "id": "EHA5nl2yvvPU"
      },
      "source": [
        "**Cluster Profiles:**\n",
        "\n",
        "* Same profiles as in K-Means\n",
        "\n",
        "**Comparing Clusters:**\n",
        "\n",
        "* The distributions of both the number of observations in each cluster as well as the boxplots show identical results. "
      ]
    },
    {
      "cell_type": "markdown",
      "metadata": {
        "id": "ixzPPJG6vvPV"
      },
      "source": [
        "## K-Medoids"
      ]
    },
    {
      "cell_type": "markdown",
      "metadata": {
        "id": "PpPxOxvmvvPW"
      },
      "source": [
        "**We will apply the same process with the K-Medoids algorithm**"
      ]
    },
    {
      "cell_type": "code",
      "metadata": {
        "colab": {
          "base_uri": "https://localhost:8080/"
        },
        "id": "Ay5a0vPli709",
        "outputId": "56400cf7-3f97-4ea1-f58e-1749d52cb477"
      },
      "source": [
        "!pip install scikit-learn-extra"
      ],
      "execution_count": null,
      "outputs": [
        {
          "output_type": "stream",
          "text": [
            "Requirement already satisfied: scikit-learn-extra in /usr/local/lib/python3.7/dist-packages (0.2.0)\n",
            "Requirement already satisfied: numpy>=1.13.3 in /usr/local/lib/python3.7/dist-packages (from scikit-learn-extra) (1.19.5)\n",
            "Requirement already satisfied: scipy>=0.19.1 in /usr/local/lib/python3.7/dist-packages (from scikit-learn-extra) (1.4.1)\n",
            "Requirement already satisfied: scikit-learn>=0.23.0 in /usr/local/lib/python3.7/dist-packages (from scikit-learn-extra) (0.24.2)\n",
            "Requirement already satisfied: threadpoolctl>=2.0.0 in /usr/local/lib/python3.7/dist-packages (from scikit-learn>=0.23.0->scikit-learn-extra) (2.2.0)\n",
            "Requirement already satisfied: joblib>=0.11 in /usr/local/lib/python3.7/dist-packages (from scikit-learn>=0.23.0->scikit-learn-extra) (1.0.1)\n"
          ],
          "name": "stdout"
        }
      ]
    },
    {
      "cell_type": "code",
      "metadata": {
        "id": "UxuTu1JF48hA",
        "scrolled": true
      },
      "source": [
        "#!pip install scikit-learn-extra\n",
        "#!conda install -c conda-forge scikit-learn-extra\n",
        "\n",
        "#from sklearn_extra.cluster import KMedoids\n",
        "\n",
        "kmedo = KMedoids(n_clusters = 3, random_state = 1) #Apply the K-Medoids algorithm\n",
        "kmedo.fit(data_scaled) #Fit the kmedo function on the scaled data\n",
        "\n",
        "data_scaled_copy['kmedoLabels'] = kmedo.predict(data_scaled)\n",
        "data['kmedoLabels'] = kmedo.predict(data_scaled)"
      ],
      "execution_count": null,
      "outputs": []
    },
    {
      "cell_type": "code",
      "metadata": {
        "id": "9t6hVMWs2lez",
        "colab": {
          "base_uri": "https://localhost:8080/"
        },
        "outputId": "a31917c6-ebc9-43e7-e63a-c46b565826c3"
      },
      "source": [
        "#Number of observations in each cluster\n",
        "data.kmedoLabels.value_counts()"
      ],
      "execution_count": null,
      "outputs": [
        {
          "output_type": "execute_result",
          "data": {
            "text/plain": [
              "2    289\n",
              "0    222\n",
              "1    133\n",
              "Name: kmedoLabels, dtype: int64"
            ]
          },
          "metadata": {},
          "execution_count": 31
        }
      ]
    },
    {
      "cell_type": "code",
      "metadata": {
        "id": "FvKJ9rrzvvPW",
        "colab": {
          "base_uri": "https://localhost:8080/",
          "height": 206
        },
        "outputId": "ca482153-10f3-4496-c7b9-22eed980eeba"
      },
      "source": [
        "#Calculating summary statistics of the original data for each label\n",
        "mean = data.groupby('kmedoLabels').mean()\n",
        "median = data.groupby('kmedoLabels').median()\n",
        "df_kmedoids = pd.concat([mean, median], axis=0)\n",
        "df_kmedoids.index = ['group_0 Mean', 'group_1 Mean', 'group_2 Mean', 'group_0 Median', 'group_1 Median', 'group_2 Median']\n",
        "df_kmedoids[original_features].T"
      ],
      "execution_count": null,
      "outputs": [
        {
          "output_type": "execute_result",
          "data": {
            "text/html": [
              "<div>\n",
              "<style scoped>\n",
              "    .dataframe tbody tr th:only-of-type {\n",
              "        vertical-align: middle;\n",
              "    }\n",
              "\n",
              "    .dataframe tbody tr th {\n",
              "        vertical-align: top;\n",
              "    }\n",
              "\n",
              "    .dataframe thead th {\n",
              "        text-align: right;\n",
              "    }\n",
              "</style>\n",
              "<table border=\"1\" class=\"dataframe\">\n",
              "  <thead>\n",
              "    <tr style=\"text-align: right;\">\n",
              "      <th></th>\n",
              "      <th>group_0 Mean</th>\n",
              "      <th>group_1 Mean</th>\n",
              "      <th>group_2 Mean</th>\n",
              "      <th>group_0 Median</th>\n",
              "      <th>group_1 Median</th>\n",
              "      <th>group_2 Median</th>\n",
              "    </tr>\n",
              "  </thead>\n",
              "  <tbody>\n",
              "    <tr>\n",
              "      <th>Avg_Credit_Limit</th>\n",
              "      <td>12216.216216</td>\n",
              "      <td>85052.631579</td>\n",
              "      <td>28449.826990</td>\n",
              "      <td>12000.0</td>\n",
              "      <td>68000.0</td>\n",
              "      <td>20000.0</td>\n",
              "    </tr>\n",
              "    <tr>\n",
              "      <th>Total_Credit_Cards</th>\n",
              "      <td>2.423423</td>\n",
              "      <td>7.030075</td>\n",
              "      <td>5.363322</td>\n",
              "      <td>2.0</td>\n",
              "      <td>7.0</td>\n",
              "      <td>5.0</td>\n",
              "    </tr>\n",
              "    <tr>\n",
              "      <th>Total_visits_bank</th>\n",
              "      <td>0.950450</td>\n",
              "      <td>1.691729</td>\n",
              "      <td>3.830450</td>\n",
              "      <td>1.0</td>\n",
              "      <td>2.0</td>\n",
              "      <td>4.0</td>\n",
              "    </tr>\n",
              "    <tr>\n",
              "      <th>Total_visits_online</th>\n",
              "      <td>3.554054</td>\n",
              "      <td>4.639098</td>\n",
              "      <td>0.982699</td>\n",
              "      <td>4.0</td>\n",
              "      <td>2.0</td>\n",
              "      <td>1.0</td>\n",
              "    </tr>\n",
              "    <tr>\n",
              "      <th>Total_calls_made</th>\n",
              "      <td>6.878378</td>\n",
              "      <td>1.969925</td>\n",
              "      <td>1.851211</td>\n",
              "      <td>7.0</td>\n",
              "      <td>2.0</td>\n",
              "      <td>2.0</td>\n",
              "    </tr>\n",
              "  </tbody>\n",
              "</table>\n",
              "</div>"
            ],
            "text/plain": [
              "                     group_0 Mean  group_1 Mean  ...  group_1 Median  group_2 Median\n",
              "Avg_Credit_Limit     12216.216216  85052.631579  ...         68000.0         20000.0\n",
              "Total_Credit_Cards       2.423423      7.030075  ...             7.0             5.0\n",
              "Total_visits_bank        0.950450      1.691729  ...             2.0             4.0\n",
              "Total_visits_online      3.554054      4.639098  ...             2.0             1.0\n",
              "Total_calls_made         6.878378      1.969925  ...             2.0             2.0\n",
              "\n",
              "[5 rows x 6 columns]"
            ]
          },
          "metadata": {},
          "execution_count": 32
        }
      ]
    },
    {
      "cell_type": "code",
      "metadata": {
        "id": "eWdxV2rLvvPX",
        "colab": {
          "base_uri": "https://localhost:8080/",
          "height": 480
        },
        "outputId": "0d211435-3c9f-49e1-ced4-cb9495ae5084"
      },
      "source": [
        "#plotting boxplots with the new K-Medoids based labels\n",
        "\n",
        "features_with_lables = [\"Avg_Credit_Limit\",\t\"Total_Credit_Cards\",\"Total_visits_bank\",\"Total_visits_online\",\"Total_calls_made\",\"kmedoLabels\"]\n",
        "\n",
        "data_scaled_copy[features_with_lables].boxplot(by = 'kmedoLabels', layout = (1,5),figsize=(20,7))\n",
        "plt.show()"
      ],
      "execution_count": null,
      "outputs": [
        {
          "output_type": "display_data",
          "data": {
            "image/png": "[encoded data removed]",
            "text/plain": [
              "<Figure size 1440x504 with 5 Axes>"
            ]
          },
          "metadata": {
            "needs_background": "light"
          }
        }
      ]
    },
    {
      "cell_type": "markdown",
      "metadata": {
        "id": "B_MtSZkr2le0"
      },
      "source": [
        "Let's compare the clusters from K-Means and K-Medoids "
      ]
    },
    {
      "cell_type": "code",
      "metadata": {
        "id": "l1gebsJ_2le0",
        "colab": {
          "base_uri": "https://localhost:8080/",
          "height": 362
        },
        "outputId": "9c8329b8-5f3e-4866-ba35-ed560502241c"
      },
      "source": [
        "comparison = pd.concat([df_kmedoids, df_kmeans], axis=1)[original_features]\n",
        "comparison"
      ],
      "execution_count": null,
      "outputs": [
        {
          "output_type": "execute_result",
          "data": {
            "text/html": [
              "<div>\n",
              "<style scoped>\n",
              "    .dataframe tbody tr th:only-of-type {\n",
              "        vertical-align: middle;\n",
              "    }\n",
              "\n",
              "    .dataframe tbody tr th {\n",
              "        vertical-align: top;\n",
              "    }\n",
              "\n",
              "    .dataframe thead th {\n",
              "        text-align: right;\n",
              "    }\n",
              "</style>\n",
              "<table border=\"1\" class=\"dataframe\">\n",
              "  <thead>\n",
              "    <tr style=\"text-align: right;\">\n",
              "      <th></th>\n",
              "      <th>Avg_Credit_Limit</th>\n",
              "      <th>Avg_Credit_Limit</th>\n",
              "      <th>Total_Credit_Cards</th>\n",
              "      <th>Total_Credit_Cards</th>\n",
              "      <th>Total_visits_bank</th>\n",
              "      <th>Total_visits_bank</th>\n",
              "      <th>Total_visits_online</th>\n",
              "      <th>Total_visits_online</th>\n",
              "      <th>Total_calls_made</th>\n",
              "      <th>Total_calls_made</th>\n",
              "    </tr>\n",
              "  </thead>\n",
              "  <tbody>\n",
              "    <tr>\n",
              "      <th>group_0 Mean</th>\n",
              "      <td>12216.216216</td>\n",
              "      <td>12239.819005</td>\n",
              "      <td>2.423423</td>\n",
              "      <td>2.411765</td>\n",
              "      <td>0.950450</td>\n",
              "      <td>0.945701</td>\n",
              "      <td>3.554054</td>\n",
              "      <td>3.561086</td>\n",
              "      <td>6.878378</td>\n",
              "      <td>6.891403</td>\n",
              "    </tr>\n",
              "    <tr>\n",
              "      <th>group_1 Mean</th>\n",
              "      <td>85052.631579</td>\n",
              "      <td>33893.048128</td>\n",
              "      <td>7.030075</td>\n",
              "      <td>5.508021</td>\n",
              "      <td>1.691729</td>\n",
              "      <td>3.489305</td>\n",
              "      <td>4.639098</td>\n",
              "      <td>0.975936</td>\n",
              "      <td>1.969925</td>\n",
              "      <td>1.997326</td>\n",
              "    </tr>\n",
              "    <tr>\n",
              "      <th>group_2 Mean</th>\n",
              "      <td>28449.826990</td>\n",
              "      <td>140102.040816</td>\n",
              "      <td>5.363322</td>\n",
              "      <td>8.775510</td>\n",
              "      <td>3.830450</td>\n",
              "      <td>0.591837</td>\n",
              "      <td>0.982699</td>\n",
              "      <td>10.979592</td>\n",
              "      <td>1.851211</td>\n",
              "      <td>1.102041</td>\n",
              "    </tr>\n",
              "    <tr>\n",
              "      <th>group_0 Median</th>\n",
              "      <td>12000.000000</td>\n",
              "      <td>12000.000000</td>\n",
              "      <td>2.000000</td>\n",
              "      <td>2.000000</td>\n",
              "      <td>1.000000</td>\n",
              "      <td>1.000000</td>\n",
              "      <td>4.000000</td>\n",
              "      <td>4.000000</td>\n",
              "      <td>7.000000</td>\n",
              "      <td>7.000000</td>\n",
              "    </tr>\n",
              "    <tr>\n",
              "      <th>group_1 Median</th>\n",
              "      <td>68000.000000</td>\n",
              "      <td>31500.000000</td>\n",
              "      <td>7.000000</td>\n",
              "      <td>6.000000</td>\n",
              "      <td>2.000000</td>\n",
              "      <td>3.000000</td>\n",
              "      <td>2.000000</td>\n",
              "      <td>1.000000</td>\n",
              "      <td>2.000000</td>\n",
              "      <td>2.000000</td>\n",
              "    </tr>\n",
              "    <tr>\n",
              "      <th>group_2 Median</th>\n",
              "      <td>20000.000000</td>\n",
              "      <td>145000.000000</td>\n",
              "      <td>5.000000</td>\n",
              "      <td>9.000000</td>\n",
              "      <td>4.000000</td>\n",
              "      <td>1.000000</td>\n",
              "      <td>1.000000</td>\n",
              "      <td>11.000000</td>\n",
              "      <td>2.000000</td>\n",
              "      <td>1.000000</td>\n",
              "    </tr>\n",
              "  </tbody>\n",
              "</table>\n",
              "</div>"
            ],
            "text/plain": [
              "                Avg_Credit_Limit  ...  Total_calls_made\n",
              "group_0 Mean        12216.216216  ...          6.891403\n",
              "group_1 Mean        85052.631579  ...          1.997326\n",
              "group_2 Mean        28449.826990  ...          1.102041\n",
              "group_0 Median      12000.000000  ...          7.000000\n",
              "group_1 Median      68000.000000  ...          2.000000\n",
              "group_2 Median      20000.000000  ...          1.000000\n",
              "\n",
              "[6 rows x 10 columns]"
            ]
          },
          "metadata": {},
          "execution_count": 34
        }
      ]
    },
    {
      "cell_type": "markdown",
      "metadata": {
        "id": "iuNbMOGKvvPY"
      },
      "source": [
        "**Cluster Profiles:**\n",
        "\n",
        "* Cluster 0: The customers that have a low avg credit limit, do most of their banking through calls instead of visting the bank or doing it online, and they also have a lower amount of credits cards on average. \n",
        "\n",
        "* Cluster 1: These customers have high avg credit limit, do most of their banking online, have a high number of credit cards on average and don't visit the bank very much or call. \n",
        "\n",
        "* Cluster 2: the \"intermediate\" group, which has more avg credit limit than cluster 0 but less than cluster 1. They also do more of their banking through actual visits compared to calls or online means. They also have more credit cards on average compared to cluster 0 but less than cluster 1. \n",
        "\n",
        "**Comparing Clusters:**\n",
        "\n",
        "* We can see that K-Medoids are better at detecting outliers because the boxplots display more of them compared to K-Means\n",
        "\n",
        "* There is also a more even split of the 3 clusters for K-Medoids compared to K-Means. Kedoids split: 289, 222, 133, K-Means split:  374, 221, 49\n",
        "\n",
        "* There is a significantly higher spread on the IQR for the high average credit limit group in K-Medoids compared to K-Means"
      ]
    }
  ]
}